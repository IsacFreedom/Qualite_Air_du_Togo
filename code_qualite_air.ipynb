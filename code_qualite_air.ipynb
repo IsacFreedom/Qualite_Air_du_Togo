{
 "cells": [
  {
   "cell_type": "code",
   "execution_count": null,
   "id": "70b64091",
   "metadata": {},
   "outputs": [],
   "source": [
    "# Imprtation des bibliothèques nécessaires\n",
    "import pandas as pd\n",
    "import numpy as np\n",
    "import matplotlib.pyplot as plt\n",
    "import seaborn as sns\n",
    "from pathlib import Path\n",
    "from reportlab.lib.pagesizes import A4\n",
    "from reportlab.platypus import SimpleDocTemplate, Paragraph, Spacer, Table, TableStyle, Image\n",
    "from reportlab.lib.styles import getSampleStyleSheet\n",
    "from reportlab.lib import colors"
   ]
  },
  {
   "cell_type": "code",
   "execution_count": 2,
   "id": "9d36b502",
   "metadata": {},
   "outputs": [],
   "source": [
    "# Config / chemins\n",
    "DATA_FILE = \"qualite_air_togo.csv\"\n",
    "OUTPUT_DIR = Path(\"./output_qualite_air\")\n",
    "OUTPUT_DIR.mkdir(exist_ok=True)\n",
    "PDF_PATH = OUTPUT_DIR / \"Rapport_Qualite_Air_Togo.pdf\""
   ]
  },
  {
   "cell_type": "code",
   "execution_count": 3,
   "id": "2e0ec176",
   "metadata": {},
   "outputs": [],
   "source": [
    "# Figure paths\n",
    "FIG_TS = OUTPUT_DIR / \"evolution_pm25_par_region.png\"\n",
    "FIG_BAR = OUTPUT_DIR / \"moyenne_pm25_par_region.png\"\n",
    "FIG_HEAT = OUTPUT_DIR / \"heatmap_correlations.png\"\n",
    "FIG_SCATTER_PM25_TEMP = OUTPUT_DIR / \"scatter_pm25_temperature.png\"\n",
    "FIG_SCATTER_PM25_HUM = OUTPUT_DIR / \"scatter_pm25_humidite.png\""
   ]
  },
  {
   "cell_type": "code",
   "execution_count": null,
   "id": "345788ba",
   "metadata": {},
   "outputs": [],
   "source": [
    "# Seuil de référence pour PM2.5 (modifiable) utilisé pour compter les dépassements\n",
    "PM25_SEUIL = 25.0  # µg/m³ "
   ]
  },
  {
   "cell_type": "code",
   "execution_count": 5,
   "id": "189c1bbb",
   "metadata": {},
   "outputs": [],
   "source": [
    "# 1. Charger & nettoyer\n",
    "df = pd.read_csv(DATA_FILE)"
   ]
  },
  {
   "cell_type": "code",
   "execution_count": 6,
   "id": "511729aa",
   "metadata": {},
   "outputs": [],
   "source": [
    "# Normaliser noms de colonnes (pratique)\n",
    "df.columns = [c.strip() for c in df.columns]"
   ]
  },
  {
   "cell_type": "code",
   "execution_count": 7,
   "id": "79655017",
   "metadata": {},
   "outputs": [],
   "source": [
    "# Vérifier types\n",
    "# Convertir colonnes numériques en cas de soucis\n",
    "num_cols = [\"PM2.5 (µg/m³)\", \"CO2 (ppm)\", \"Ozone (µg/m³)\", \"Température (°C)\", \"Humidité (%)\"]\n",
    "for col in num_cols + [\"Année\"]:\n",
    "    if col in df.columns:\n",
    "        df[col] = pd.to_numeric(df[col], errors=\"coerce\")"
   ]
  },
  {
   "cell_type": "code",
   "execution_count": 8,
   "id": "3683e611",
   "metadata": {},
   "outputs": [],
   "source": [
    "# Supprimer les lignes avec valeurs manquantes\n",
    "missing_before = df.isnull().sum().sum()\n",
    "df = df.dropna().reset_index(drop=True)\n",
    "missing_after = df.isnull().sum().sum()"
   ]
  },
  {
   "cell_type": "markdown",
   "id": "045aafd3",
   "metadata": {},
   "source": [
    "# 2. Indicateurs simples"
   ]
  },
  {
   "cell_type": "code",
   "execution_count": 9,
   "id": "04cfc1bf",
   "metadata": {},
   "outputs": [],
   "source": [
    "# Moyennes par région\n",
    "moyennes_region = df.groupby(\"Région\")[num_cols].mean().round(2)\n",
    "\n",
    "# Tendances temporelles (moyenne nationale par année)\n",
    "tendance_annee = df.groupby(\"Année\")[num_cols].mean().reset_index()\n",
    "\n",
    "# Corrélations (toutes variables numériques)\n",
    "corr = df[num_cols].corr().round(2)\n",
    "\n",
    "# Comptage dépassements PM2.5 par région\n",
    "df[\"depasse_pm25\"] = df[\"PM2.5 (µg/m³)\"] > PM25_SEUIL\n",
    "depassements_par_region = df.groupby(\"Région\")[\"depasse_pm25\"].sum().sort_values(ascending=False)\n",
    "\n",
    "# Meilleure / pire année pour PM2.5 (moyenne)\n",
    "pm25_par_annee = df.groupby(\"Année\")[\"PM2.5 (µg/m³)\"].mean().sort_index()"
   ]
  },
  {
   "cell_type": "markdown",
   "id": "aebf9a56",
   "metadata": {},
   "source": [
    "# 3. Visualisations\n"
   ]
  },
  {
   "cell_type": "code",
   "execution_count": 10,
   "id": "7d39dd66",
   "metadata": {},
   "outputs": [],
   "source": [
    "sns.set(style=\"whitegrid\")"
   ]
  },
  {
   "cell_type": "code",
   "execution_count": 11,
   "id": "636c58b1",
   "metadata": {},
   "outputs": [],
   "source": [
    "# 3.1 Évolution du PM2.5 par région (time series)\n",
    "plt.figure(figsize=(10,6))\n",
    "for region, grp in df.groupby(\"Région\"):\n",
    "    grp_sorted = grp.sort_values(\"Année\")\n",
    "    plt.plot(grp_sorted[\"Année\"], grp_sorted[\"PM2.5 (µg/m³)\"], marker=\"o\", label=region)\n",
    "plt.xlabel(\"Année\")\n",
    "plt.ylabel(\"PM2.5 (µg/m³)\")\n",
    "plt.title(\"Évolution du PM2.5 par région (2020-2025)\")\n",
    "plt.legend()\n",
    "plt.tight_layout()\n",
    "plt.savefig(FIG_TS, dpi=150)\n",
    "plt.close()"
   ]
  },
  {
   "cell_type": "code",
   "execution_count": 12,
   "id": "9bf6d54e",
   "metadata": {},
   "outputs": [],
   "source": [
    "# 3.2 Bar chart: moyenne PM2.5 par région\n",
    "plt.figure(figsize=(8,5))\n",
    "order = moyennes_region[\"PM2.5 (µg/m³)\"].sort_values(ascending=False).index\n",
    "sns.barplot(x=moyennes_region.loc[order, \"PM2.5 (µg/m³)\"].values, y=order)\n",
    "plt.xlabel(\"PM2.5 moyen (µg/m³)\")\n",
    "plt.title(\"PM2.5 moyen par région (2020-2025)\")\n",
    "plt.tight_layout()\n",
    "plt.savefig(FIG_BAR, dpi=150)\n",
    "plt.close()"
   ]
  },
  {
   "cell_type": "code",
   "execution_count": 13,
   "id": "63df4c55",
   "metadata": {},
   "outputs": [],
   "source": [
    "# 3.3 Heatmap de corrélations\n",
    "plt.figure(figsize=(6,5))\n",
    "sns.heatmap(corr, annot=True, fmt=\".2f\", linewidths=0.5)\n",
    "plt.title(\"Corrélations entre indicateurs\")\n",
    "plt.tight_layout()\n",
    "plt.savefig(FIG_HEAT, dpi=150)\n",
    "plt.close()"
   ]
  },
  {
   "cell_type": "code",
   "execution_count": 14,
   "id": "607e620a",
   "metadata": {},
   "outputs": [],
   "source": [
    "# 3.4 Scatter: PM2.5 vs Température\n",
    "plt.figure(figsize=(8,6))\n",
    "sns.scatterplot(data=df, x=\"Température (°C)\", y=\"PM2.5 (µg/m³)\", hue=\"Région\", s=80)\n",
    "plt.title(\"PM2.5 vs Température\")\n",
    "plt.tight_layout()\n",
    "plt.savefig(FIG_SCATTER_PM25_TEMP, dpi=150)\n",
    "plt.close()"
   ]
  },
  {
   "cell_type": "code",
   "execution_count": 15,
   "id": "da6059c9",
   "metadata": {},
   "outputs": [],
   "source": [
    "# 3.5 Scatter: PM2.5 vs Humidité\n",
    "plt.figure(figsize=(8,6))\n",
    "sns.scatterplot(data=df, x=\"Humidité (%)\", y=\"PM2.5 (µg/m³)\", hue=\"Région\", s=80)\n",
    "plt.title(\"PM2.5 vs Humidité\")\n",
    "plt.tight_layout()\n",
    "plt.savefig(FIG_SCATTER_PM25_HUM, dpi=150)\n",
    "plt.close()"
   ]
  },
  {
   "cell_type": "markdown",
   "id": "3f1159a2",
   "metadata": {},
   "source": [
    "# 4. Génération du rapport PDF (ReportLab)\n"
   ]
  },
  {
   "cell_type": "code",
   "execution_count": null,
   "id": "378c4370",
   "metadata": {},
   "outputs": [],
   "source": [
    "# Récuperer les styles de texte standard avec getSampleStyleSheet()\n",
    "styles = getSampleStyleSheet()\n",
    "\n",
    "# Créer un document PDF (SimpleDocTemplate) avec le chemin, le format \n",
    "# de page A4 et des marges personnalisées.\n",
    "doc = SimpleDocTemplate(str(PDF_PATH), pagesize=A4, rightMargin=30, leftMargin=30, topMargin=30, bottomMargin=18)\n",
    "\n",
    "# rée une liste vide elements qui servira à stocker tous les composants \n",
    "# (titres, paragraphes, tableaux, images, etc.) qui seront ajoutés au PDF\n",
    "elements = []\n"
   ]
  },
  {
   "cell_type": "code",
   "execution_count": null,
   "id": "301958fb",
   "metadata": {},
   "outputs": [],
   "source": [
    "# Titre\n",
    "elements.append(Paragraph(\"Rapport — Qualité de l'air au Togo (2020-2025)\", styles[\"Title\"]))\n",
    "elements.append(Spacer(1, 12))"
   ]
  },
  {
   "cell_type": "code",
   "execution_count": null,
   "id": "73cd9fc1",
   "metadata": {},
   "outputs": [],
   "source": [
    "# Résumé des données\n",
    "elements.append(Paragraph(f\"Source : fichier fourni — analyses fictives pour démonstration.\", styles[\"Normal\"]))\n",
    "elements.append(Spacer(1, 6))\n",
    "elements.append(Paragraph(f\"Lignes initiales du fichier : {len(pd.read_csv(DATA_FILE))} — lignes utilisées après nettoyage : {len(df)}\", styles[\"Normal\"]))\n",
    "elements.append(Spacer(1, 12))"
   ]
  },
  {
   "cell_type": "code",
   "execution_count": null,
   "id": "ba3aa4a5",
   "metadata": {},
   "outputs": [],
   "source": [
    "# Table: Moyennes par région (PM2.5, CO2, Ozone, Temp, Humidité)\n",
    "elements.append(Paragraph(\"Moyennes par région (2020-2025)\", styles[\"Heading2\"]))\n",
    "table_data = [ [\"Région\"] + list(moyennes_region.columns) ]\n",
    "for region, row in moyennes_region.iterrows():\n",
    "    table_data.append([region] + [row[c] for c in moyennes_region.columns])\n",
    "\n",
    "t = Table(table_data, hAlign=\"LEFT\", repeatRows=1)\n",
    "t.setStyle(TableStyle([\n",
    "    (\"BACKGROUND\",(0,0),(-1,0),colors.HexColor(\"#2E8B57\")),\n",
    "    (\"TEXTCOLOR\",(0,0),(-1,0),colors.white),\n",
    "    (\"ALIGN\",(0,0),(-1,-1),\"CENTER\"),\n",
    "    (\"GRID\",(0,0),(-1,-1),0.5,colors.grey),\n",
    "    (\"FONTSIZE\",(0,0),(-1,-1),8),\n",
    "]))\n",
    "elements.append(t)\n",
    "elements.append(Spacer(1,12))"
   ]
  },
  {
   "cell_type": "code",
   "execution_count": null,
   "id": "04529d6d",
   "metadata": {},
   "outputs": [],
   "source": [
    "# Dépassements PM2.5\n",
    "elements.append(Paragraph(f\"Dépassements PM2.5 > {PM25_SEUIL} µg/m³ par région (nombre d'années)\", styles[\"Heading2\"]))\n",
    "dep_table = [[\"Région\", f\"Nb. dépassements (> {PM25_SEUIL})\"]]\n",
    "for region, val in depassements_par_region.items():\n",
    "    dep_table.append([region, int(val)])\n",
    "t2 = Table(dep_table, hAlign=\"LEFT\")\n",
    "t2.setStyle(TableStyle([(\"GRID\",(0,0),(-1,-1),0.5,colors.grey),(\"ALIGN\",(0,0),(-1,-1),\"CENTER\")]))\n",
    "elements.append(t2)\n",
    "elements.append(Spacer(1,12))"
   ]
  },
  {
   "cell_type": "code",
   "execution_count": null,
   "id": "939d5732",
   "metadata": {},
   "outputs": [],
   "source": [
    "# Corrélations (petit tableau)\n",
    "elements.append(Paragraph(\"Corrélations (extrait)\", styles[\"Heading2\"]))\n",
    "corr_table = [[\"\", *corr.columns]]\n",
    "for idx in corr.index:\n",
    "    corr_table.append([idx] + list(corr.loc[idx].values))\n",
    "t3 = Table(corr_table, hAlign=\"LEFT\")\n",
    "t3.setStyle(TableStyle([(\"GRID\",(0,0),(-1,-1),0.5,colors.grey),(\"FONTSIZE\",(0,0),(-1,-1),8)]))\n",
    "elements.append(t3)\n",
    "elements.append(Spacer(1,12))"
   ]
  },
  {
   "cell_type": "code",
   "execution_count": null,
   "id": "fac2d1f7",
   "metadata": {},
   "outputs": [],
   "source": [
    "# Insérer figures (images)\n",
    "elements.append(Paragraph(\"Figures (voir ci-dessous)\", styles[\"Heading2\"]))\n",
    "elements.append(Spacer(1,6))"
   ]
  },
  {
   "cell_type": "code",
   "execution_count": null,
   "id": "076fd1f4",
   "metadata": {},
   "outputs": [],
   "source": [
    "\n",
    "#  Aide pour insérer une image avec la largeur max\n",
    "def add_image(path, width=450):\n",
    "    try:\n",
    "        img = Image(str(path))\n",
    "        # Correction du redimensionnement : garder le ratio d'origine\n",
    "        ratio = width / img.imageWidth\n",
    "        img.drawWidth = width\n",
    "        img.drawHeight = img.imageHeight * ratio\n",
    "        elements.append(img)\n",
    "        elements.append(Spacer(1,12))\n",
    "    except Exception as e:\n",
    "        elements.append(Paragraph(f\"Impossible d'ajouter l'image {path.name}: {e}\", styles[\"Normal\"]))"
   ]
  },
  {
   "cell_type": "code",
   "execution_count": null,
   "id": "cff5da98",
   "metadata": {},
   "outputs": [],
   "source": [
    "# Ajout des images (en ordre d'apparition)\n",
    "for fig in [FIG_TS, FIG_BAR, FIG_HEAT, FIG_SCATTER_PM25_TEMP, FIG_SCATTER_PM25_HUM]:\n",
    "    if fig.exists():\n",
    "        elements.append(Paragraph(fig.name, styles[\"Normal\"]))\n",
    "        elements.append(Spacer(1,6))\n",
    "        try:\n",
    "            img = Image(str(fig))\n",
    "            # Correction du redimensionnement : garder le ratio d'origine\n",
    "            ratio = 450 / img.imageWidth\n",
    "            img.drawWidth = 450\n",
    "            img.drawHeight = img.imageHeight * ratio\n",
    "            elements.append(img)\n",
    "            elements.append(Spacer(1,12))\n",
    "        except Exception as e:\n",
    "            elements.append(Paragraph(f\"Erreur insertion image {fig.name}: {e}\", styles[\"Normal\"]))\n",
    "            elements.append(Spacer(1,6))"
   ]
  },
  {
   "cell_type": "code",
   "execution_count": null,
   "id": "00fd1e81",
   "metadata": {},
   "outputs": [],
   "source": [
    "# Conclusion / Insights (générés automatiquement)\n",
    "elements.append(Paragraph(\"Conclusions & recommandations (automatiques)\", styles[\"Heading2\"]))\n",
    "insights = []\n",
    "\n",
    "# Région la plus polluée (moyenne PM2.5)\n",
    "top_region = moyennes_region[\"PM2.5 (µg/m³)\"].idxmax()\n",
    "top_val = moyennes_region[\"PM2.5 (µg/m³)\"].max()\n",
    "insights.append(f\"- Région avec PM2.5 moyen le plus élevé : {top_region} ({top_val} µg/m³).\")\n",
    "\n",
    "# Corrélations clés (extraction simple)\n",
    "corr_pm25_temp = corr.loc[\"PM2.5 (µg/m³)\", \"Température (°C)\"] if \"Température (°C)\" in corr.columns else np.nan\n",
    "corr_pm25_hum = corr.loc[\"PM2.5 (µg/m³)\", \"Humidité (%)\"] if \"Humidité (%)\" in corr.columns else np.nan\n",
    "insights.append(f\"- Corrélation PM2.5 vs Température : {corr_pm25_temp}\")\n",
    "insights.append(f\"- Corrélation PM2.5 vs Humidité : {corr_pm25_hum}\")\n",
    "\n",
    "insights.append(f\"- Nombre d'occurrences où PM2.5 > {PM25_SEUIL} µg/m³ par région (voir tableau ci-dessus).\")\n",
    "insights.append(\"- Recommandations : installer des capteurs supplémentaires dans les régions les plus touchées, lancer des campagnes de sensibilisation, prioriser la réduction des sources d'émission locales (trafic, déchets brûlés, industries).\")\n",
    "\n",
    "for para in insights:\n",
    "    elements.append(Paragraph(para, styles[\"Normal\"]))\n",
    "    elements.append(Spacer(1,6))"
   ]
  },
  {
   "cell_type": "code",
   "execution_count": null,
   "id": "bd4cb0a6",
   "metadata": {},
   "outputs": [],
   "source": [
    "\n",
    "# Générer le PDF\n",
    "doc.build(elements)"
   ]
  },
  {
   "cell_type": "markdown",
   "id": "616846fc",
   "metadata": {},
   "source": [
    "# 5. Résumé console\n"
   ]
  },
  {
   "cell_type": "code",
   "execution_count": 18,
   "id": "c461a7db",
   "metadata": {},
   "outputs": [
    {
     "name": "stdout",
     "output_type": "stream",
     "text": [
      "== Analyse terminée ==\n",
      "Fichier de données : qualite_air_togo.csv\n",
      "Lignes avant nettoyage : 30, après nettoyage : 30\n",
      "PDF généré : output_qualite_air\\Rapport_Qualite_Air_Togo.pdf\n",
      "Figures créées :\n",
      " - output_qualite_air\\evolution_pm25_par_region.png\n",
      " - output_qualite_air\\moyenne_pm25_par_region.png\n",
      " - output_qualite_air\\heatmap_correlations.png\n",
      " - output_qualite_air\\scatter_pm25_temperature.png\n",
      " - output_qualite_air\\scatter_pm25_humidite.png\n"
     ]
    }
   ],
   "source": [
    "print(\"== Analyse terminée ==\")\n",
    "print(f\"Fichier de données : {DATA_FILE}\")\n",
    "print(f\"Lignes avant nettoyage : {len(pd.read_csv(DATA_FILE))}, après nettoyage : {len(df)}\")\n",
    "print(f\"PDF généré : {PDF_PATH}\")\n",
    "print(\"Figures créées :\")\n",
    "for f in [FIG_TS, FIG_BAR, FIG_HEAT, FIG_SCATTER_PM25_TEMP, FIG_SCATTER_PM25_HUM]:\n",
    "    print(\" -\", f)"
   ]
  }
 ],
 "metadata": {
  "kernelspec": {
   "display_name": "base",
   "language": "python",
   "name": "python3"
  },
  "language_info": {
   "codemirror_mode": {
    "name": "ipython",
    "version": 3
   },
   "file_extension": ".py",
   "mimetype": "text/x-python",
   "name": "python",
   "nbconvert_exporter": "python",
   "pygments_lexer": "ipython3",
   "version": "3.12.7"
  }
 },
 "nbformat": 4,
 "nbformat_minor": 5
}
